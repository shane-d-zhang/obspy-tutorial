{
 "cells": [
  {
   "cell_type": "markdown",
   "id": "7514eca4",
   "metadata": {
    "toc": true
   },
   "source": [
    "<h1>Table of Contents<span class=\"tocSkip\"></span></h1>\n",
    "<div class=\"toc\"><ul class=\"toc-item\"><li><span><a href=\"#Why-ObsPy?\" data-toc-modified-id=\"Why-ObsPy?-1\">Why ObsPy?</a></span></li><li><span><a href=\"#How-is-the-seismogram-represented?\" data-toc-modified-id=\"How-is-the-seismogram-represented?-2\">How is the seismogram represented?</a></span></li><li><span><a href=\"#Receiver-metadata\" data-toc-modified-id=\"Receiver-metadata-3\">Receiver metadata</a></span></li><li><span><a href=\"#Data-structures-for-earthquakes\" data-toc-modified-id=\"Data-structures-for-earthquakes-4\">Data structures for earthquakes</a></span></li><li><span><a href=\"#Signal-processing-routines-obspy.signal\" data-toc-modified-id=\"Signal-processing-routines-obspy.signal-5\">Signal processing routines <code>obspy.signal</code></a></span></li><li><span><a href=\"#Resources\" data-toc-modified-id=\"Resources-6\">Resources</a></span></li></ul></div>"
   ]
  },
  {
   "cell_type": "markdown",
   "id": "7307a856",
   "metadata": {},
   "source": [
    "<h1 style=\"text-align: center\"><span class=\"tocSkip\"></span>Integrate Seismology Into the Scientific Python Ecosystem with ObsPy</h1>\n",
    "<h2 style=\"text-align: center\"><span class=\"tocSkip\"></span>Shane Zhang*</h2>\n",
    "<h3 style=\"text-align: center\"><span class=\"tocSkip\"></span>University of Colorado Boulder</h3>\n",
    "<h3 style=\"text-align: center\"><span class=\"tocSkip\"></span>Sep 27, 2021</h3>\n",
    "<h4 style=\"text-align: center\"><span class=\"tocSkip\"></span><a href=\"mailto:shane.zhang@colorado.edu\">*shane.zhang@colorado.edu</a></h4>"
   ]
  },
  {
   "cell_type": "markdown",
   "id": "12c44f99",
   "metadata": {},
   "source": [
    "# Why ObsPy?"
   ]
  },
  {
   "cell_type": "markdown",
   "id": "0a05f939",
   "metadata": {},
   "source": [
    "- Python\n",
    "- Open source with community-wide contributions\n",
    "- Gaining popularity\n",
    "- Common signal processing routines\n",
    "- Interface for web services from data centers\n",
    "- ...\n",
    "\n",
    "Nothing in obspy makes sense except in the light of a **sensible representation of seismic data which provides \"a bridge for seismology into the scientific Python ecosystem\"** [Krischer et al., 2015](https://doi.org/10.1088/1749-4699/8/1/014003). These representations are (duly) called `core` classes in obspy (`obspy.core`).\n",
    "\n",
    "\n",
    "<figure>\n",
    "    <img src=\"fig/gh.png\" class=\"center\" style=\"width:100%\">\n",
    "    <figcaption><b>Fig: Development of ObsPy</b> (https://user-images.githubusercontent.com/1842780/70671351-0c884100-1c7c-11ea-81ed-7c477b7cf29c.png).</figcaption>\n",
    "</figure>\n",
    "\n",
    "Thus, in this tutorial, let's try to understand how seismic data (waveform, station response, catalogue, etc.) are respresented by obspy, and how it makes the transition to the scientific Python ecosystem seamless.\n",
    "\n",
    "The organization of the sections are sorted by the *irreplaceability* of obspy functionalities (in my view). For instance, I believe the representation of waveforms is more essential than the representation of earthquake catalogues, and the I/O between various data formats and python objects is harder to be replaced by other softwares than, say, signal processing utilities.\n",
    "\n",
    "Therefore, this tutorial is more of a high-level overview than a hands-on exercise about the specific applications (e.g., how to do this processing to the waveform, how to make a plot like this). The specific questions can be overwhelming in amount and will be overly biased by my personal experiences. They can be learned from the various [resources](#Resources)."
   ]
  },
  {
   "cell_type": "markdown",
   "id": "97ec2492",
   "metadata": {},
   "source": [
    "- Where does ObsPy stand in the scientific Python ecosystem?\n",
    "\n",
    "<figure>\n",
    "    <img src=\"fig/Harris20_2.png\" class=\"center\" style=\"width:80%\">\n",
    "    <figcaption><b>Fig: Hierarchy of scientific python ecosystem. </b> [Harris et al., 2020](https://doi.org/10.1038/s41586-020-2649-2).</figcaption>\n",
    "</figure>"
   ]
  },
  {
   "cell_type": "markdown",
   "id": "level-bahamas",
   "metadata": {},
   "source": [
    "# How is the seismogram represented?"
   ]
  },
  {
   "cell_type": "markdown",
   "id": "sustainable-stroke",
   "metadata": {},
   "source": [
    "<figure>\n",
    "    <img src=\"fig/Krischer15_1.png\" class=\"center\" style=\"width:100%\">\n",
    "    <figcaption><b>Fig: Structure of a `Trace`, the most fundatmental object.</b> [Krischer et al., 2015](https://doi.org/10.1088/1749-4699/8/1/014003)</figcaption>\n",
    "</figure>\n"
   ]
  },
  {
   "cell_type": "markdown",
   "id": "headed-gamma",
   "metadata": {},
   "source": [
    "- The fundamental observable in seismology is the seismogram, a record of mechanical oscillations of the planet.\n",
    "- Everything in Python is an `object`, something can have `properties` (attributes) and `methods` (functions)."
   ]
  },
  {
   "cell_type": "code",
   "execution_count": null,
   "id": "optimum-nevada",
   "metadata": {},
   "outputs": [],
   "source": [
    "import matplotlib.pyplot as plt\n",
    "import obspy\n",
    "\n",
    "\n",
    "plt.rcParams.update({\n",
    "    'figure.dpi': 200,\n",
    "})"
   ]
  },
  {
   "cell_type": "code",
   "execution_count": null,
   "id": "powerful-saying",
   "metadata": {},
   "outputs": [],
   "source": [
    "st = obspy.read()\n",
    "tr = st[0] "
   ]
  },
  {
   "cell_type": "markdown",
   "id": "signed-punishment",
   "metadata": {},
   "source": [
    "- Metadata is saved in `stats`, like a python `dict`."
   ]
  },
  {
   "cell_type": "code",
   "execution_count": null,
   "id": "expressed-finish",
   "metadata": {},
   "outputs": [],
   "source": [
    "tr.stats"
   ]
  },
  {
   "cell_type": "code",
   "execution_count": null,
   "id": "solved-chicken",
   "metadata": {},
   "outputs": [],
   "source": [
    "# Both will work\n",
    "tr.stats['station']\n",
    "# tr.stats.delta"
   ]
  },
  {
   "cell_type": "markdown",
   "id": "liberal-swing",
   "metadata": {},
   "source": [
    "- The time series itself is a `numpy` array."
   ]
  },
  {
   "cell_type": "code",
   "execution_count": null,
   "id": "naval-climb",
   "metadata": {},
   "outputs": [],
   "source": [
    "tr.data"
   ]
  },
  {
   "cell_type": "code",
   "execution_count": null,
   "id": "undefined-system",
   "metadata": {},
   "outputs": [],
   "source": [
    "type(tr.data)\n",
    "# tr.data.mean()"
   ]
  },
  {
   "cell_type": "code",
   "execution_count": null,
   "id": "illegal-valentine",
   "metadata": {},
   "outputs": [],
   "source": [
    "dir(tr)"
   ]
  },
  {
   "cell_type": "code",
   "execution_count": null,
   "id": "iraqi-travel",
   "metadata": {},
   "outputs": [],
   "source": [
    "tr.plot();"
   ]
  },
  {
   "cell_type": "code",
   "execution_count": null,
   "id": "likely-johns",
   "metadata": {},
   "outputs": [],
   "source": [
    "fig, ax = plt.subplots()\n",
    "ax.plot(tr.times(), tr.data)"
   ]
  },
  {
   "cell_type": "markdown",
   "id": "selected-apollo",
   "metadata": {},
   "source": [
    "- Supported formats\n",
    "    - `read`: **MSEED**, **SAC**, SEG2, SEGY, SEISAN, SU, WIN, MATLAB (via Scipy) ...\n",
    "    - `write`: a subset of `read`"
   ]
  },
  {
   "cell_type": "markdown",
   "id": "brief-chassis",
   "metadata": {},
   "source": [
    "The seismic wavefield is a vector field in the 4-D spacetime, and thus we have to move beyond a `Trace`, a 1-D time series in essence, which only records oscillations along a certain direction at a location fixed to Earth (Lagrangian reference frame). For instance, it can make sense to group different components of the seismograms at the same location together, or to remove responses across certain types of instruments.\n",
    "\n",
    "A \"group\" of `Trace`(s) is a `Stream`, which is somewhat similar to a `list` in python."
   ]
  },
  {
   "cell_type": "code",
   "execution_count": null,
   "id": "built-genius",
   "metadata": {},
   "outputs": [],
   "source": [
    "st"
   ]
  },
  {
   "cell_type": "code",
   "execution_count": null,
   "id": "angry-savings",
   "metadata": {},
   "outputs": [],
   "source": [
    "st.plot();"
   ]
  },
  {
   "cell_type": "code",
   "execution_count": null,
   "id": "favorite-worship",
   "metadata": {},
   "outputs": [],
   "source": [
    "dir(st)"
   ]
  },
  {
   "cell_type": "markdown",
   "id": "colonial-board",
   "metadata": {},
   "source": [
    "# Receiver metadata"
   ]
  },
  {
   "cell_type": "markdown",
   "id": "advance-prevention",
   "metadata": {},
   "source": [
    "<figure>\n",
    "    <img src=\"fig/Inventory.png\" class=\"center\" style=\"width:100%\">\n",
    "    <figcaption><b>Fig: Data structure of receiver information.</b> (https://docs.obspy.org/packages/obspy.core.html)</figcaption>\n",
    "</figure>"
   ]
  },
  {
   "cell_type": "markdown",
   "id": "tough-nursing",
   "metadata": {},
   "source": [
    "An `inventory` is structured after [StationXML](https://www.fdsn.org/xml/station/). Obspy supports I/O for\n",
    "- `read_inventory`: RESP, SEED, STATIONTXT, STATIONXML, ...\n",
    "- `write`: KML, SACPZ, STATIONTXT, STATIONXML, ..."
   ]
  },
  {
   "cell_type": "code",
   "execution_count": null,
   "id": "running-minister",
   "metadata": {},
   "outputs": [],
   "source": [
    "inv = obspy.read_inventory()"
   ]
  },
  {
   "cell_type": "code",
   "execution_count": null,
   "id": "female-deviation",
   "metadata": {},
   "outputs": [],
   "source": [
    "inv"
   ]
  },
  {
   "cell_type": "code",
   "execution_count": null,
   "id": "instructional-wichita",
   "metadata": {},
   "outputs": [],
   "source": [
    "inv.networks[1].stations[0].channels[0].response.plot(min_freq=.001);"
   ]
  },
  {
   "cell_type": "markdown",
   "id": "legendary-space",
   "metadata": {},
   "source": [
    "Comment: Such a structure makes sense for the currently most common type of instruments which are 3-component (3-C) seismometers spatially isolated from each other. New types of receivers, such as 6-C seismometers and distributed acoustic sensors (DAS) may call for new designs."
   ]
  },
  {
   "cell_type": "markdown",
   "id": "hairy-glasgow",
   "metadata": {},
   "source": [
    "# Data structures for earthquakes"
   ]
  },
  {
   "cell_type": "markdown",
   "id": "dense-lighter",
   "metadata": {},
   "source": [
    "<figure>\n",
    "    <img src=\"fig/Event.png\" class=\"center\" style=\"width:100%\">\n",
    "    <figcaption><b>Fig: Data structure for earthquakes.</b> (https://docs.obspy.org/packages/obspy.core.html)</figcaption>\n",
    "</figure>"
   ]
  },
  {
   "cell_type": "markdown",
   "id": "missing-filename",
   "metadata": {},
   "source": [
    "A `catalog` is structured after [QuakeML](https://quake.ethz.ch/quakeml/). Obspy supports I/O for\n",
    "- `read_events`: CMTSOLUTION, FOCMEC, HYPODDPHA, NDK, QUAKEML, ...\n",
    "- `write`: KML, SHAPEFILE, ..."
   ]
  },
  {
   "cell_type": "code",
   "execution_count": null,
   "id": "entertaining-pocket",
   "metadata": {},
   "outputs": [],
   "source": [
    "catalog = obspy.read_events()\n",
    "catalog"
   ]
  },
  {
   "cell_type": "code",
   "execution_count": null,
   "id": "intended-recommendation",
   "metadata": {},
   "outputs": [],
   "source": [
    "catalog[0]"
   ]
  },
  {
   "cell_type": "code",
   "execution_count": null,
   "id": "powerful-borough",
   "metadata": {},
   "outputs": [],
   "source": [
    "catalog[0].origins"
   ]
  },
  {
   "cell_type": "code",
   "execution_count": null,
   "id": "driving-scenario",
   "metadata": {},
   "outputs": [],
   "source": [
    "catalog[0].magnitudes"
   ]
  },
  {
   "cell_type": "markdown",
   "id": "approximate-project",
   "metadata": {},
   "source": [
    "Comment: With the emergence of ambient noise seismology, specific applications may not use tectonic earthquakes as the dominante source of energy."
   ]
  },
  {
   "cell_type": "markdown",
   "id": "radio-boost",
   "metadata": {},
   "source": [
    "# Signal processing routines `obspy.signal`"
   ]
  },
  {
   "cell_type": "code",
   "execution_count": null,
   "id": "protective-hartford",
   "metadata": {},
   "outputs": [],
   "source": [
    "# Note the operation is in place\n",
    "tr_filtered = tr.copy().filter(type='bandpass', freqmin=1, freqmax=2)\n",
    "tr_filtered.plot();"
   ]
  },
  {
   "cell_type": "code",
   "execution_count": null,
   "id": "fff1f7ce",
   "metadata": {},
   "outputs": [],
   "source": [
    "# Provenance is logged for *reproducibility*\n",
    "tr_filtered.stats.processing"
   ]
  },
  {
   "cell_type": "markdown",
   "id": "earlier-detroit",
   "metadata": {},
   "source": [
    "# Resources"
   ]
  },
  {
   "cell_type": "markdown",
   "id": "blind-trinity",
   "metadata": {},
   "source": [
    "- Other niceties that cannot be covered in this tutorial\n",
    "    - `obspy.clients`: interface for data center web services (request, downloading, computation, etc.)\n",
    "    - `obspy.geodetics`\n",
    "    - `obspy.imaging`: beachball, map\n",
    "    - `obspy.taup`\n",
    "    - ...\n",
    "\n",
    "- Learning resources\n",
    "    - [Official wiki](https://github.com/obspy/obspy/wiki)\n",
    "    - [YouTube videos](https://www.youtube.com/results?search_query=\"obspy\")\n",
    "    - IPython notebooks in [seismo-live](http://seismo-live.org/)\n",
    "    "
   ]
  }
 ],
 "metadata": {
  "kernelspec": {
   "display_name": "Python 3 (ipykernel)",
   "language": "python",
   "name": "python3"
  },
  "language_info": {
   "codemirror_mode": {
    "name": "ipython",
    "version": 3
   },
   "file_extension": ".py",
   "mimetype": "text/x-python",
   "name": "python",
   "nbconvert_exporter": "python",
   "pygments_lexer": "ipython3",
   "version": "3.9.7"
  },
  "toc": {
   "base_numbering": 1,
   "nav_menu": {},
   "number_sections": false,
   "sideBar": true,
   "skip_h1_title": false,
   "title_cell": "Table of Contents",
   "title_sidebar": "Contents",
   "toc_cell": true,
   "toc_position": {},
   "toc_section_display": true,
   "toc_window_display": false
  }
 },
 "nbformat": 4,
 "nbformat_minor": 5
}
